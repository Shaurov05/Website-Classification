{
  "nbformat": 4,
  "nbformat_minor": 0,
  "metadata": {
    "accelerator": "TPU",
    "colab": {
      "name": "Website Classification.ipynb",
      "provenance": [],
      "collapsed_sections": [],
      "toc_visible": true,
      "include_colab_link": true
    },
    "kernelspec": {
      "name": "python3",
      "display_name": "Python 3"
    },
    "language_info": {
      "codemirror_mode": {
        "name": "ipython",
        "version": 3
      },
      "file_extension": ".py",
      "mimetype": "text/x-python",
      "name": "python",
      "nbconvert_exporter": "python",
      "pygments_lexer": "ipython3",
      "version": "3.7.3"
    }
  },
  "cells": [
    {
      "cell_type": "markdown",
      "metadata": {
        "id": "view-in-github",
        "colab_type": "text"
      },
      "source": [
        "<a href=\"https://colab.research.google.com/github/Shaurov05/Website-Classification/blob/master/Website_Classification(0.8845%20f1%20score).ipynb\" target=\"_parent\"><img src=\"https://colab.research.google.com/assets/colab-badge.svg\" alt=\"Open In Colab\"/></a>"
      ]
    },
    {
      "cell_type": "code",
      "metadata": {
        "_uuid": "d2155d2a47acce9e8087db0bf0c25436f886b46d",
        "colab_type": "code",
        "id": "zIKWDITNcE0S",
        "colab": {}
      },
      "source": [
        "import pandas as pd\n",
        "import numpy as np\n",
        "from sklearn import linear_model\n",
        "from sklearn import metrics\n",
        "from sklearn.model_selection import train_test_split\n",
        "%matplotlib inline \n",
        "from sklearn.utils import shuffle\n",
        "import matplotlib.pyplot as plt\n",
        "from numpy import array\n",
        "from numpy import argmax\n",
        "from sklearn.preprocessing import LabelEncoder\n",
        "from sklearn.preprocessing import OneHotEncoder\n",
        "from sklearn.feature_extraction.text import TfidfVectorizer\n",
        "from sklearn.feature_extraction.text import TfidfTransformer\n",
        "from sklearn.naive_bayes import MultinomialNB\n",
        "from sklearn.feature_extraction.text import CountVectorizer\n",
        "from sklearn.feature_selection import chi2\n",
        "from sklearn import tree\n",
        "from sklearn.tree import DecisionTreeClassifier\n",
        "from keras.utils import to_categorical\n",
        "from keras.models import Sequential\n",
        "from keras.layers.core import Dense, Activation\n",
        "from keras.utils import np_utils\n",
        "import re\n",
        "from keras.preprocessing import sequence\n",
        "from keras.preprocessing.text import one_hot\n",
        "from keras.preprocessing.text import text_to_word_sequence\n",
        "from sklearn.svm import LinearSVC"
      ],
      "execution_count": 0,
      "outputs": []
    },
    {
      "cell_type": "code",
      "metadata": {
        "id": "0BXGgPkWUABY",
        "colab_type": "code",
        "outputId": "9d377984-8cb7-4e68-ad3e-743efb54d48e",
        "colab": {
          "base_uri": "https://localhost:8080/",
          "height": 34
        }
      },
      "source": [
        "from google.colab import drive\n",
        "drive.mount('/content/drive')"
      ],
      "execution_count": 51,
      "outputs": [
        {
          "output_type": "stream",
          "text": [
            "Drive already mounted at /content/drive; to attempt to forcibly remount, call drive.mount(\"/content/drive\", force_remount=True).\n"
          ],
          "name": "stdout"
        }
      ]
    },
    {
      "cell_type": "code",
      "metadata": {
        "_uuid": "09b361699e1fddf13d13c1620c40ff55fd28dab6",
        "colab_type": "code",
        "id": "Hwv5cygRwTqh",
        "outputId": "306a4dbf-d571-44cd-be86-e86b8f906d21",
        "colab": {
          "base_uri": "https://localhost:8080/",
          "height": 204
        }
      },
      "source": [
        "names=['URL','Category']\n",
        "df=pd.read_csv('/content/drive/My Drive/Colab Notebooks/thesis/URL Classification.csv',names=names, na_filter=False)\n",
        "df1 = df[1:2000]\n",
        "df2 = df[50000:52000]\n",
        "df3 = df[520000:522000]\n",
        "df4 =df[535300:537300]\n",
        "df5 = df[650000:652000]\n",
        "df6= df[710000:712000]\n",
        "df7=  df[764200:766200]\n",
        "df8=  df[793080:795080]\n",
        "df9=  df[839730:841730]\n",
        "df10=  df[850000:852000]\n",
        "df11=  df[955250:957250]\n",
        "df12=  df[1013000:1015000]\n",
        "df13=  df[1143000:1145000]\n",
        "df14=  df[1293000:1295000]\n",
        "df15=  df[1492000:1494000]\n",
        "#df6 = df[77000:1562978]\n",
        "dt=pd.concat([df1,df2,df3,df4,df5,df6,df7,df8,df9,df10,df11,df12,df13,df14,df15], axis=0)\n",
        "df.drop(df.index[1:2000],inplace= True)\n",
        "df.drop(df.index[50000:52000],inplace= True)\n",
        "df.drop(df.index[520000:522000],inplace= True)\n",
        "df.drop(df.index[535300:537300],inplace= True)\n",
        "df.drop(df.index[650000:652000],inplace= True)\n",
        "df.drop(df.index[710000:712000],inplace= True)\n",
        "df.drop(df.index[764200:766200],inplace= True)\n",
        "df.drop(df.index[793080:795080],inplace= True)\n",
        "df.drop(df.index[839730:841730],inplace= True)\n",
        "df.drop(df.index[850000:852000],inplace= True)\n",
        "df.drop(df.index[955250:957250],inplace= True)\n",
        "df.drop(df.index[1013000:1015000],inplace= True)\n",
        "df.drop(df.index[1143000:1145000],inplace= True)\n",
        "df.drop(df.index[1293000:1295000],inplace= True)\n",
        "df.drop(df.index[1492000:1494000],inplace= True)\n",
        "df.tail()"
      ],
      "execution_count": 52,
      "outputs": [
        {
          "output_type": "execute_result",
          "data": {
            "text/html": [
              "<div>\n",
              "<style scoped>\n",
              "    .dataframe tbody tr th:only-of-type {\n",
              "        vertical-align: middle;\n",
              "    }\n",
              "\n",
              "    .dataframe tbody tr th {\n",
              "        vertical-align: top;\n",
              "    }\n",
              "\n",
              "    .dataframe thead th {\n",
              "        text-align: right;\n",
              "    }\n",
              "</style>\n",
              "<table border=\"1\" class=\"dataframe\">\n",
              "  <thead>\n",
              "    <tr style=\"text-align: right;\">\n",
              "      <th></th>\n",
              "      <th>URL</th>\n",
              "      <th>Category</th>\n",
              "    </tr>\n",
              "  </thead>\n",
              "  <tbody>\n",
              "    <tr>\n",
              "      <th>1562974</th>\n",
              "      <td>http://www.maxpreps.com/</td>\n",
              "      <td>Sports</td>\n",
              "    </tr>\n",
              "    <tr>\n",
              "      <th>1562975</th>\n",
              "      <td>http://www.myscore.com/</td>\n",
              "      <td>Sports</td>\n",
              "    </tr>\n",
              "    <tr>\n",
              "      <th>1562976</th>\n",
              "      <td>http://sportsillustrated.cnn.com/highschool</td>\n",
              "      <td>Sports</td>\n",
              "    </tr>\n",
              "    <tr>\n",
              "      <th>1562977</th>\n",
              "      <td>http://rss.cnn.com/rss/si_highschool?format=xml</td>\n",
              "      <td>Sports</td>\n",
              "    </tr>\n",
              "    <tr>\n",
              "      <th>1562978</th>\n",
              "      <td>http://www.usatoday.com/sports/preps/</td>\n",
              "      <td>Sports</td>\n",
              "    </tr>\n",
              "  </tbody>\n",
              "</table>\n",
              "</div>"
            ],
            "text/plain": [
              "                                                     URL Category\n",
              "1562974                         http://www.maxpreps.com/   Sports\n",
              "1562975                          http://www.myscore.com/   Sports\n",
              "1562976      http://sportsillustrated.cnn.com/highschool   Sports\n",
              "1562977  http://rss.cnn.com/rss/si_highschool?format=xml   Sports\n",
              "1562978            http://www.usatoday.com/sports/preps/   Sports"
            ]
          },
          "metadata": {
            "tags": []
          },
          "execution_count": 52
        }
      ]
    },
    {
      "cell_type": "code",
      "metadata": {
        "_uuid": "c31e3eabc59e1219c623e4b89df87d066ddd3082",
        "colab_type": "code",
        "id": "aHxqyiLYw-6N",
        "outputId": "3b99371b-fd42-4534-c96e-8057026562d2",
        "colab": {
          "base_uri": "https://localhost:8080/",
          "height": 395
        }
      },
      "source": [
        "df.Category.value_counts().plot(figsize=(12,5),kind='bar',color='black');\n",
        "plt.xlabel('Category')\n",
        "plt.ylabel('Total Number Of Individual Category')"
      ],
      "execution_count": 53,
      "outputs": [
        {
          "output_type": "execute_result",
          "data": {
            "text/plain": [
              "Text(0, 0.5, 'Total Number Of Individual Category')"
            ]
          },
          "metadata": {
            "tags": []
          },
          "execution_count": 53
        },
        {
          "output_type": "display_data",
          "data": {
            "image/png": "[encoded data removed]",
            "text/plain": [
              "<Figure size 864x360 with 1 Axes>"
            ]
          },
          "metadata": {
            "tags": []
          }
        }
      ]
    },
    {
      "cell_type": "code",
      "metadata": {
        "_uuid": "b8211b56e497b7b82dc39f1797670a690aec23ad",
        "id": "UELRQLnQHYdS",
        "colab_type": "code",
        "outputId": "ee4f32f6-731f-46b3-af78-deed9ac617ed",
        "colab": {
          "base_uri": "https://localhost:8080/",
          "height": 395
        }
      },
      "source": [
        "dt.Category.value_counts().plot(figsize=(12,5),kind='bar',color='green');\n",
        "plt.xlabel('Category')\n",
        "plt.ylabel('Total Number Of Individual Category')"
      ],
      "execution_count": 54,
      "outputs": [
        {
          "output_type": "execute_result",
          "data": {
            "text/plain": [
              "Text(0, 0.5, 'Total Number Of Individual Category')"
            ]
          },
          "metadata": {
            "tags": []
          },
          "execution_count": 54
        },
        {
          "output_type": "display_data",
          "data": {
            "image/png": "[encoded data removed]",
            "text/plain": [
              "<Figure size 864x360 with 1 Axes>"
            ]
          },
          "metadata": {
            "tags": []
          }
        }
      ]
    },
    {
      "cell_type": "code",
      "metadata": {
        "_uuid": "dfa228d30b9e1f40d91fb8d8092cd53193327a59",
        "id": "clnNh5MCHYdc",
        "colab_type": "code",
        "outputId": "79ff64e4-550e-4b1c-898e-ce1b9ca76765",
        "colab": {
          "base_uri": "https://localhost:8080/",
          "height": 34
        }
      },
      "source": [
        "X_train=df['URL']\n",
        "y_train=df['Category']\n",
        "#print(X_train)\n",
        "X_train.shape"
      ],
      "execution_count": 55,
      "outputs": [
        {
          "output_type": "execute_result",
          "data": {
            "text/plain": [
              "(1532979,)"
            ]
          },
          "metadata": {
            "tags": []
          },
          "execution_count": 55
        }
      ]
    },
    {
      "cell_type": "code",
      "metadata": {
        "_uuid": "14599f7b33f92e516fcf3fe7f68497f0bcfd6df2",
        "id": "zXerbO8YHYdq",
        "colab_type": "code",
        "outputId": "90d1e5ba-327c-4ec8-ce31-761b86e49213",
        "colab": {
          "base_uri": "https://localhost:8080/",
          "height": 34
        }
      },
      "source": [
        "X_test=dt['URL']\n",
        "y_test=dt['Category']\n",
        "#print(X_test)\n",
        "X_test.shape"
      ],
      "execution_count": 56,
      "outputs": [
        {
          "output_type": "execute_result",
          "data": {
            "text/plain": [
              "(29999,)"
            ]
          },
          "metadata": {
            "tags": []
          },
          "execution_count": 56
        }
      ]
    },
    {
      "cell_type": "code",
      "metadata": {
        "_uuid": "2126dbf54940e001cecc61849b06deebc30f47a8",
        "id": "yN0FxZaVHYd1",
        "colab_type": "code",
        "colab": {}
      },
      "source": [
        "from sklearn.pipeline import Pipeline\n",
        "text_clf = Pipeline([('vect',\n",
        "                     CountVectorizer(stop_words = 'english')), \n",
        "                     ('tfidf', TfidfTransformer()), \n",
        "                     ('clf', MultinomialNB(fit_prior = 'True' , alpha = 0.01 ))])\n",
        "text_clf = text_clf.fit(X_train, y_train)"
      ],
      "execution_count": 0,
      "outputs": []
    },
    {
      "cell_type": "code",
      "metadata": {
        "id": "sizG3OmRuCeD",
        "colab_type": "code",
        "colab": {}
      },
      "source": [
        "#from sklearn.pipeline import Pipeline\n",
        "#import nltk\n",
        "#nltk.download('stopwords')\n",
        "#gs_clf = Pipeline([('vect', CountVectorizer( ngram_range=(1,1))),\n",
        "#                      ('tfidf', TfidfTransformer()),\n",
        "#                       ('clf', MultinomialNB(fit_prior= False)),\n",
        "#  ])\n",
        "#gs_clf = gs_clf.fit(X_train , y_train)"
      ],
      "execution_count": 0,
      "outputs": []
    },
    {
      "cell_type": "code",
      "metadata": {
        "id": "FoLp9yCNcc-Q",
        "colab_type": "code",
        "colab": {}
      },
      "source": [
        "#from sklearn.pipeline import Pipeline\n",
        "#from sklearn.linear_model import SGDClassifier\n",
        "#gs_clf = Pipeline([\n",
        "#                    ('vect', CountVectorizer(stop_words='english')),\n",
        "#                    ('tfidf', TfidfTransformer()),\n",
        "#                    ('clf', SGDClassifier(loss='perceptron', penalty='l2',\n",
        "#                     alpha =1e-4,random_state=42, max_iter=10, shuffle = True ,tol=None)),\n",
        "#                    ])\n",
        "#gs_clf = text_clf.fit(X_train , y_train)"
      ],
      "execution_count": 0,
      "outputs": []
    },
    {
      "cell_type": "code",
      "metadata": {
        "_uuid": "2126dbf54940e001cecc61849b06deebc30f47a8",
        "colab_type": "code",
        "id": "H5e-5FjnKLH3",
        "colab": {
          "base_uri": "https://localhost:8080/",
          "height": 122
        },
        "outputId": "d7410462-5bea-4861-9379-aa71449ddf50"
      },
      "source": [
        "#from sklearn.model_selection import GridSearchCV\n",
        "#parameters = { \n",
        "#     'vect__ngram_range': [(1, 1), (1, 2), (2,2)],\n",
        "#     'clf__alpha': (1e-2, 1e-3 , 1e-4),\n",
        "#     'clf__fit_prior' : (True, False) }\n",
        "\n",
        "#gs_clf = GridSearchCV(text_clf, parameters, cv=5, n_jobs=-1)\n",
        "#gs_clf = gs_clf.fit(X_train , y_train)\n",
        "#gs_clf.best_score_\n",
        "#gs_clf.cv_results_\n",
        "\n",
        "#for param_name in sorted(parameters.keys()):\n",
        "#     print(\"%s: %r\" % (param_name, gs_clf.best_params_[param_name]))\n"
      ],
      "execution_count": 60,
      "outputs": [
        {
          "output_type": "stream",
          "text": [
            "/usr/local/lib/python3.6/dist-packages/joblib/externals/loky/process_executor.py:706: UserWarning: A worker stopped while some jobs were given to the executor. This can be caused by a too short worker timeout or by a memory leak.\n",
            "  \"timeout or by a memory leak.\", UserWarning\n"
          ],
          "name": "stderr"
        },
        {
          "output_type": "stream",
          "text": [
            "clf__alpha: 0.01\n",
            "clf__fit_prior: True\n",
            "vect__ngram_range: (1, 2)\n"
          ],
          "name": "stdout"
        }
      ]
    },
    {
      "cell_type": "code",
      "metadata": {
        "_uuid": "892681d5eb3d8f45379fd80046676aeac800c7bf",
        "id": "NvM1Sd4oHYd8",
        "colab_type": "code",
        "colab": {}
      },
      "source": [
        "#from sklearn.model_selection import RandomizedSearchCV\n",
        "#n_iter_search = 5\n",
        "#parameters = {'vect__ngram_range': [(1, 1), (1, 2)], 'tfidf__use_idf': (True, False), 'clf__alpha': (1e-2, 1e-3)}\n",
        "#gs_clf = RandomizedSearchCV(text_clf, parameters, n_iter = n_iter_search)\n",
        "#gs_clf = gs_clf.fit(X_train, y_train)"
      ],
      "execution_count": 0,
      "outputs": []
    },
    {
      "cell_type": "code",
      "metadata": {
        "_uuid": "424a0afe8c342a13d0c65e030be9be3b20aac950",
        "colab_type": "code",
        "id": "bpSrzz7cxFle",
        "colab": {}
      },
      "source": [
        "#X_train, X_test, y_train, y_test = train_test_split(df['URL'], df['Category'],test_size=0.3, random_state = 0)"
      ],
      "execution_count": 0,
      "outputs": []
    },
    {
      "cell_type": "code",
      "metadata": {
        "_uuid": "16de52d34ff4a9d73658254dcbd1ba9d09116e17",
        "colab_type": "code",
        "id": "9Z-yMkIHxJnR",
        "colab": {}
      },
      "source": [
        "#y=np.array(df[names[1]])\n",
        "#print(y)\n",
        "\n",
        "#from sklearn.pipeline import Pipeline\n",
        "#from sklearn.multiclass import OneVsRestClassifier\n",
        "#from nltk.corpus import stopwords\n",
        "#stop_words = set(stopwords.words('english'))\n",
        "\n",
        "#text_clf = Pipeline([('vect', CountVectorizer()), ('tfidf', TfidfTransformer()), ('clf', MultinomialNB())])\n",
        "#text_clf = Pipeline([('vect', CountVectorizer()), ('tfidf', TfidfTransformer()), ('clf', OneVsRestClassifier(MultinomialNB(fit_prior=True, class_prior=None)))])\n",
        "#text_clf= Pipeline([\n",
        "                #('tfidf', TfidfVectorizer(stop_words=stop_words)),\n",
        "                #('clf', OneVsRestClassifier(MultinomialNB(\n",
        "                   # fit_prior=True, class_prior=None))),\n",
        "            #])\n",
        "#text_clf = text_clf.fit(X_train, y_train)\n",
        "#test_clf =text_clf.fit(X_test, y_test)"
      ],
      "execution_count": 0,
      "outputs": []
    },
    {
      "cell_type": "code",
      "metadata": {
        "_uuid": "40f1dd981632c8170a6eaf580913f23caed8f181",
        "id": "oNip_quPHYeW",
        "colab_type": "code",
        "colab": {}
      },
      "source": [
        "#text_clf.get_params().keys()"
      ],
      "execution_count": 0,
      "outputs": []
    },
    {
      "cell_type": "code",
      "metadata": {
        "_uuid": "4a9aad0926f9a98e310d9ef21086c0bdfaad1bc9",
        "colab_type": "code",
        "id": "3lcQjbu4sd-K",
        "colab": {}
      },
      "source": [
        "#from sklearn.model_selection import RandomizedSearchCV\n",
        "#n_iter_search = 5\n",
        "#parameters = {'vect__ngram_range': [(1, 1), (1, 2)], 'tfidf__use_idf': (True, False), 'clf__estimator__alpha': (1e-2, 1e-3)}\n",
        "#parameters = {'tfidf__ngram_range': [(1, 1), (1, 2)], 'tfidf__use_idf': (True, False), 'clf__estimator__alpha': (1e-2, 1e-3)}\n",
        "#gs_clf = RandomizedSearchCV(text_clf, parameters, n_iter = n_iter_search)\n",
        "#gs_clf = gs_clf.fit(X_train, y_train)"
      ],
      "execution_count": 0,
      "outputs": []
    },
    {
      "cell_type": "code",
      "metadata": {
        "_uuid": "6d921079bdd64aba4667b55864c529edd06e0fac",
        "colab_type": "code",
        "id": "NSqLTA9-xQVe",
        "colab": {}
      },
      "source": [
        "#print(X_test)"
      ],
      "execution_count": 0,
      "outputs": []
    },
    {
      "cell_type": "code",
      "metadata": {
        "_uuid": "74268f8496fd1658a7e781249d9d579aaca5de15",
        "colab_type": "code",
        "id": "vbjsB3V5xpRM",
        "outputId": "c57567dd-6f4d-42c9-af59-bed9dfc06a07",
        "colab": {
          "base_uri": "https://localhost:8080/",
          "height": 34
        }
      },
      "source": [
        "from sklearn.metrics import precision_recall_fscore_support\n",
        "from sklearn.metrics import confusion_matrix\n",
        "#grid_mean_scores = [result.mean_validation_score for result in gs_clf.grid_scores_]\n",
        "#print(grid_mean_scores)\n",
        "y_pred=gs_clf.predict(X_test)\n",
        "precision_recall_fscore_support(y_test, y_pred, average='weighted')"
      ],
      "execution_count": 67,
      "outputs": [
        {
          "output_type": "execute_result",
          "data": {
            "text/plain": [
              "(0.9173862809424594, 0.8966298876629221, 0.8845454898122946, None)"
            ]
          },
          "metadata": {
            "tags": []
          },
          "execution_count": 67
        }
      ]
    },
    {
      "cell_type": "code",
      "metadata": {
        "_uuid": "52610d1bc080a3c7e63a0583a96735d881f91098",
        "id": "Z9WlOli3HYe9",
        "colab_type": "code",
        "outputId": "74e945ff-558d-486f-9376-997b28040b2e",
        "colab": {
          "base_uri": "https://localhost:8080/",
          "height": 391
        }
      },
      "source": [
        "y_pred=gs_clf.predict(X_test)\n",
        "from sklearn.metrics import classification_report\n",
        "print(classification_report(y_test, y_pred, digits = 4))"
      ],
      "execution_count": 68,
      "outputs": [
        {
          "output_type": "stream",
          "text": [
            "              precision    recall  f1-score   support\n",
            "\n",
            "       Adult     0.9924    0.1966    0.3282      1999\n",
            "        Arts     0.5837    0.9140    0.7124      2000\n",
            "    Business     0.7880    0.9925    0.8785      2000\n",
            "   Computers     0.9455    0.9795    0.9622      2000\n",
            "       Games     0.9701    0.9745    0.9723      2000\n",
            "      Health     0.9875    0.9845    0.9860      2000\n",
            "        Home     0.9683    0.9465    0.9573      2000\n",
            "        Kids     0.9383    0.7905    0.8581      2000\n",
            "        News     0.9976    0.8210    0.9007      2000\n",
            "  Recreation     0.9556    0.9910    0.9730      2000\n",
            "   Reference     0.8605    0.9620    0.9084      2000\n",
            "     Science     0.9372    0.9550    0.9460      2000\n",
            "    Shopping     0.9778    0.9925    0.9851      2000\n",
            "     Society     0.8780    0.9965    0.9335      2000\n",
            "      Sports     0.9804    0.9525    0.9663      2000\n",
            "\n",
            "    accuracy                         0.8966     29999\n",
            "   macro avg     0.9174    0.8966    0.8845     29999\n",
            "weighted avg     0.9174    0.8966    0.8845     29999\n",
            "\n"
          ],
          "name": "stdout"
        }
      ]
    },
    {
      "cell_type": "code",
      "metadata": {
        "_uuid": "27739db4d09a08caf347fee24e1674bf54cc4951",
        "id": "kPc5UfTgHYfM",
        "colab_type": "code",
        "outputId": "c1842d65-f5bd-449f-9b48-13cd11a00ad7",
        "colab": {
          "base_uri": "https://localhost:8080/",
          "height": 880
        }
      },
      "source": [
        "import seaborn as sn\n",
        "import pandas as pd\n",
        "import matplotlib.pyplot as plt\n",
        "import numpy as np\n",
        "%matplotlib inline\n",
        "array = confusion_matrix(y_test, y_pred)\n",
        "cm=np.array(array)\n",
        "cm = cm.astype('float') / cm.sum(axis=1)[:, np.newaxis]\n",
        "df_cm = pd.DataFrame(cm, index = [i for i in \"0123456789ABCDE\"],\n",
        "                  columns = [i for i in \"0123456789ABCDE\"])\n",
        "plt.figure(figsize = (20,15))\n",
        "sn.heatmap(df_cm, annot=True)"
      ],
      "execution_count": 69,
      "outputs": [
        {
          "output_type": "execute_result",
          "data": {
            "text/plain": [
              "<matplotlib.axes._subplots.AxesSubplot at 0x7fd92af945c0>"
            ]
          },
          "metadata": {
            "tags": []
          },
          "execution_count": 69
        },
        {
          "output_type": "display_data",
          "data": {
            "image/png": "[encoded data removed]",
            "text/plain": [
              "<Figure size 1440x1080 with 2 Axes>"
            ]
          },
          "metadata": {
            "tags": []
          }
        }
      ]
    },
    {
      "cell_type": "code",
      "metadata": {
        "_uuid": "9062c8082990e92166fbbec3bf9499ed3374fbf1",
        "colab_type": "code",
        "id": "lMdZWt5ws62k",
        "outputId": "c71e2964-e5d7-42b8-ca06-53d6b4fa55b0",
        "colab": {
          "base_uri": "https://localhost:8080/",
          "height": 51
        }
      },
      "source": [
        "print('Naive Bayes Train Accuracy = ',metrics.accuracy_score(y_train,gs_clf.predict(X_train)))\n",
        "print('Naive Bayes Test Accuracy = ',metrics.accuracy_score(y_test,gs_clf.predict(X_test)))"
      ],
      "execution_count": 70,
      "outputs": [
        {
          "output_type": "stream",
          "text": [
            "Naive Bayes Train Accuracy =  0.9655461686037448\n",
            "Naive Bayes Test Accuracy =  0.8966298876629221\n"
          ],
          "name": "stdout"
        }
      ]
    },
    {
      "cell_type": "code",
      "metadata": {
        "_uuid": "44e5c0df369430df0006e9f04774db39bcb13d99",
        "colab_type": "code",
        "id": "EKqEmU-4xZVF",
        "outputId": "4af8e771-c1ad-4c58-926e-57ea9e15320a",
        "colab": {
          "base_uri": "https://localhost:8080/",
          "height": 51
        }
      },
      "source": [
        "print(gs_clf.predict(['http://www.businesstoday.net/']))\n",
        "print(gs_clf.predict(['http://www.gamespot.net/']))"
      ],
      "execution_count": 71,
      "outputs": [
        {
          "output_type": "stream",
          "text": [
            "['Business']\n",
            "['Games']\n"
          ],
          "name": "stdout"
        }
      ]
    },
    {
      "cell_type": "code",
      "metadata": {
        "_uuid": "3bd7f52b1042be2ae0bc25fa3033cbaf79cf7e0f",
        "id": "MESE0LxxHYfo",
        "colab_type": "code",
        "colab": {}
      },
      "source": [
        ""
      ],
      "execution_count": 0,
      "outputs": []
    }
  ]
}