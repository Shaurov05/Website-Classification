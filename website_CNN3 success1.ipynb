{
  "nbformat": 4,
  "nbformat_minor": 0,
  "metadata": {
    "colab": {
      "name": "website CNN3.ipynb",
      "provenance": [],
      "collapsed_sections": [],
      "machine_shape": "hm",
      "mount_file_id": "13bx5jNUER1XaQv5FQ2CZJMLVTOhxn5K4",
      "authorship_tag": "ABX9TyP6E5mRiOOkGoMd3sBRatjT",
      "include_colab_link": true
    },
    "kernelspec": {
      "name": "python3",
      "display_name": "Python 3"
    },
    "accelerator": "GPU"
  },
  "cells": [
    {
      "cell_type": "markdown",
      "metadata": {
        "id": "view-in-github",
        "colab_type": "text"
      },
      "source": [
        "<a href=\"https://colab.research.google.com/github/Shaurov05/Website-Classification/blob/master/website_CNN3%20success1.ipynb\" target=\"_parent\"><img src=\"https://colab.research.google.com/assets/colab-badge.svg\" alt=\"Open In Colab\"/></a>"
      ]
    },
    {
      "cell_type": "code",
      "metadata": {
        "id": "1rQCxs_VGVjP",
        "colab_type": "code",
        "colab": {}
      },
      "source": [
        "import numpy as np # linear algebra\n",
        "import pandas as pd # daimport pandas as pd\n",
        "import numpy as np\n",
        "from sklearn import linear_model\n",
        "from sklearn import metrics\n",
        "from sklearn.model_selection import train_test_split\n",
        "%matplotlib inline \n",
        "from sklearn.utils import shuffle\n",
        "import matplotlib.pyplot as plt\n",
        "from numpy import array\n",
        "from numpy import argmax\n",
        "from sklearn.preprocessing import LabelEncoder\n",
        "from sklearn.preprocessing import OneHotEncoder\n",
        "from sklearn.feature_extraction.text import TfidfVectorizer\n",
        "from sklearn.feature_extraction.text import TfidfTransformer\n",
        "from sklearn.naive_bayes import MultinomialNB\n",
        "from sklearn.feature_extraction.text import CountVectorizer\n",
        "from sklearn.feature_selection import chi2\n",
        "from sklearn import tree\n",
        "from sklearn.tree import DecisionTreeClassifier\n",
        "from keras.utils import to_categorical\n",
        "from keras.models import Sequential\n",
        "from keras.layers.core import Dense, Activation\n",
        "from keras.utils import np_utils\n",
        "import re\n",
        "from keras.preprocessing import sequence\n",
        "from keras.preprocessing.text import one_hot\n",
        "from keras.preprocessing.text import text_to_word_sequence\n",
        "from sklearn.svm import LinearSVC\n"
      ],
      "execution_count": 0,
      "outputs": []
    },
    {
      "cell_type": "code",
      "metadata": {
        "id": "gZ5VybDUr9aN",
        "colab_type": "code",
        "colab": {}
      },
      "source": [
        "names=['URL','Category']\n",
        "#df=pd.read_csv( \"../input/website-classification-using-url/URL Classification.csv\")\n",
        "#df=pd.read_csv('../input/Website classification using URL/URL Classification.csv')\n",
        "df=pd.read_csv('/content/drive/My Drive/Colab Notebooks/thesis/URL Classification.csv',names=names, na_filter=False)"
      ],
      "execution_count": 0,
      "outputs": []
    },
    {
      "cell_type": "code",
      "metadata": {
        "id": "Hg4LNDUAr9ju",
        "colab_type": "code",
        "outputId": "54021417-5c8b-47e6-9d77-d8c3ea2b65df",
        "colab": {
          "base_uri": "https://localhost:8080/",
          "height": 131
        }
      },
      "source": [
        "from sklearn.preprocessing import LabelEncoder\n",
        "lb = LabelEncoder()\n",
        "lb.fit(df['Category'])\n",
        "df['Category'] = lb.transform(df['Category'])\n",
        "\n",
        "data = pd.get_dummies(df,prefix=['Category'], columns = ['Category'])\n",
        "df = data\n",
        "df[:2]"
      ],
      "execution_count": 0,
      "outputs": [
        {
          "output_type": "execute_result",
          "data": {
            "text/html": [
              "<div>\n",
              "<style scoped>\n",
              "    .dataframe tbody tr th:only-of-type {\n",
              "        vertical-align: middle;\n",
              "    }\n",
              "\n",
              "    .dataframe tbody tr th {\n",
              "        vertical-align: top;\n",
              "    }\n",
              "\n",
              "    .dataframe thead th {\n",
              "        text-align: right;\n",
              "    }\n",
              "</style>\n",
              "<table border=\"1\" class=\"dataframe\">\n",
              "  <thead>\n",
              "    <tr style=\"text-align: right;\">\n",
              "      <th></th>\n",
              "      <th>URL</th>\n",
              "      <th>Category_0</th>\n",
              "      <th>Category_1</th>\n",
              "      <th>Category_2</th>\n",
              "      <th>Category_3</th>\n",
              "      <th>Category_4</th>\n",
              "      <th>Category_5</th>\n",
              "      <th>Category_6</th>\n",
              "      <th>Category_7</th>\n",
              "      <th>Category_8</th>\n",
              "      <th>Category_9</th>\n",
              "      <th>Category_10</th>\n",
              "      <th>Category_11</th>\n",
              "      <th>Category_12</th>\n",
              "      <th>Category_13</th>\n",
              "      <th>Category_14</th>\n",
              "    </tr>\n",
              "  </thead>\n",
              "  <tbody>\n",
              "    <tr>\n",
              "      <th>1</th>\n",
              "      <td>http://www.liquidgeneration.com/</td>\n",
              "      <td>1</td>\n",
              "      <td>0</td>\n",
              "      <td>0</td>\n",
              "      <td>0</td>\n",
              "      <td>0</td>\n",
              "      <td>0</td>\n",
              "      <td>0</td>\n",
              "      <td>0</td>\n",
              "      <td>0</td>\n",
              "      <td>0</td>\n",
              "      <td>0</td>\n",
              "      <td>0</td>\n",
              "      <td>0</td>\n",
              "      <td>0</td>\n",
              "      <td>0</td>\n",
              "    </tr>\n",
              "    <tr>\n",
              "      <th>2</th>\n",
              "      <td>http://www.onlineanime.org/</td>\n",
              "      <td>1</td>\n",
              "      <td>0</td>\n",
              "      <td>0</td>\n",
              "      <td>0</td>\n",
              "      <td>0</td>\n",
              "      <td>0</td>\n",
              "      <td>0</td>\n",
              "      <td>0</td>\n",
              "      <td>0</td>\n",
              "      <td>0</td>\n",
              "      <td>0</td>\n",
              "      <td>0</td>\n",
              "      <td>0</td>\n",
              "      <td>0</td>\n",
              "      <td>0</td>\n",
              "    </tr>\n",
              "  </tbody>\n",
              "</table>\n",
              "</div>"
            ],
            "text/plain": [
              "                                URL  Category_0  ...  Category_13  Category_14\n",
              "1  http://www.liquidgeneration.com/           1  ...            0            0\n",
              "2       http://www.onlineanime.org/           1  ...            0            0\n",
              "\n",
              "[2 rows x 16 columns]"
            ]
          },
          "metadata": {
            "tags": []
          },
          "execution_count": 5
        }
      ]
    },
    {
      "cell_type": "code",
      "metadata": {
        "id": "NG6aliCLr9mZ",
        "colab_type": "code",
        "outputId": "e4a6e18f-e857-4ef0-c56d-d02549b4ebeb",
        "colab": {
          "base_uri": "https://localhost:8080/",
          "height": 241
        }
      },
      "source": [
        "df1 = df[1:4000]\n",
        "df2 = df[50000:54000]\n",
        "df3 = df[520000:524000]\n",
        "df4 =df[535300:539300]\n",
        "df5 = df[650000:654000]\n",
        "df6= df[710000:714000]\n",
        "df7=  df[764200:768200]\n",
        "df8=  df[793080:797080]\n",
        "df9=  df[839730:843730]\n",
        "df10=  df[850000:854000]\n",
        "df11=  df[955250:959250]\n",
        "df12=  df[1013000:1017000]\n",
        "df13=  df[1143000:1147000]\n",
        "df14=  df[1293000:1297000]\n",
        "df15=  df[1492000:1496000]\n",
        "#df6 = df[77000:1562978]\n",
        "dt=pd.concat([df1,df2,df3,df4,df5,df6,df7,df8,df9,df10,df11,df12,df13,df14,df15], axis=0)\n",
        "df.drop(df.index[1:4000],inplace= True)\n",
        "df.drop(df.index[50000:54000],inplace= True)\n",
        "df.drop(df.index[520000:524000],inplace= True)\n",
        "df.drop(df.index[535300:539300],inplace= True)\n",
        "df.drop(df.index[650000:654000],inplace= True)\n",
        "df.drop(df.index[710000:714000],inplace= True)\n",
        "df.drop(df.index[764200:768200],inplace= True)\n",
        "df.drop(df.index[793080:797080],inplace= True)\n",
        "df.drop(df.index[839730:843730],inplace= True)\n",
        "df.drop(df.index[850000:854000],inplace= True)\n",
        "df.drop(df.index[955250:959250],inplace= True)\n",
        "df.drop(df.index[1013000:1017000],inplace= True)\n",
        "df.drop(df.index[1143000:1147000],inplace= True)\n",
        "df.drop(df.index[1293000:1297000],inplace= True)\n",
        "df.drop(df.index[1492000:1496000],inplace= True)\n",
        "df.tail()"
      ],
      "execution_count": 0,
      "outputs": [
        {
          "output_type": "execute_result",
          "data": {
            "text/html": [
              "<div>\n",
              "<style scoped>\n",
              "    .dataframe tbody tr th:only-of-type {\n",
              "        vertical-align: middle;\n",
              "    }\n",
              "\n",
              "    .dataframe tbody tr th {\n",
              "        vertical-align: top;\n",
              "    }\n",
              "\n",
              "    .dataframe thead th {\n",
              "        text-align: right;\n",
              "    }\n",
              "</style>\n",
              "<table border=\"1\" class=\"dataframe\">\n",
              "  <thead>\n",
              "    <tr style=\"text-align: right;\">\n",
              "      <th></th>\n",
              "      <th>URL</th>\n",
              "      <th>Category_0</th>\n",
              "      <th>Category_1</th>\n",
              "      <th>Category_2</th>\n",
              "      <th>Category_3</th>\n",
              "      <th>Category_4</th>\n",
              "      <th>Category_5</th>\n",
              "      <th>Category_6</th>\n",
              "      <th>Category_7</th>\n",
              "      <th>Category_8</th>\n",
              "      <th>Category_9</th>\n",
              "      <th>Category_10</th>\n",
              "      <th>Category_11</th>\n",
              "      <th>Category_12</th>\n",
              "      <th>Category_13</th>\n",
              "      <th>Category_14</th>\n",
              "    </tr>\n",
              "  </thead>\n",
              "  <tbody>\n",
              "    <tr>\n",
              "      <th>1562974</th>\n",
              "      <td>http://www.maxpreps.com/</td>\n",
              "      <td>0</td>\n",
              "      <td>0</td>\n",
              "      <td>0</td>\n",
              "      <td>0</td>\n",
              "      <td>0</td>\n",
              "      <td>0</td>\n",
              "      <td>0</td>\n",
              "      <td>0</td>\n",
              "      <td>0</td>\n",
              "      <td>0</td>\n",
              "      <td>0</td>\n",
              "      <td>0</td>\n",
              "      <td>0</td>\n",
              "      <td>0</td>\n",
              "      <td>1</td>\n",
              "    </tr>\n",
              "    <tr>\n",
              "      <th>1562975</th>\n",
              "      <td>http://www.myscore.com/</td>\n",
              "      <td>0</td>\n",
              "      <td>0</td>\n",
              "      <td>0</td>\n",
              "      <td>0</td>\n",
              "      <td>0</td>\n",
              "      <td>0</td>\n",
              "      <td>0</td>\n",
              "      <td>0</td>\n",
              "      <td>0</td>\n",
              "      <td>0</td>\n",
              "      <td>0</td>\n",
              "      <td>0</td>\n",
              "      <td>0</td>\n",
              "      <td>0</td>\n",
              "      <td>1</td>\n",
              "    </tr>\n",
              "    <tr>\n",
              "      <th>1562976</th>\n",
              "      <td>http://sportsillustrated.cnn.com/highschool</td>\n",
              "      <td>0</td>\n",
              "      <td>0</td>\n",
              "      <td>0</td>\n",
              "      <td>0</td>\n",
              "      <td>0</td>\n",
              "      <td>0</td>\n",
              "      <td>0</td>\n",
              "      <td>0</td>\n",
              "      <td>0</td>\n",
              "      <td>0</td>\n",
              "      <td>0</td>\n",
              "      <td>0</td>\n",
              "      <td>0</td>\n",
              "      <td>0</td>\n",
              "      <td>1</td>\n",
              "    </tr>\n",
              "    <tr>\n",
              "      <th>1562977</th>\n",
              "      <td>http://rss.cnn.com/rss/si_highschool?format=xml</td>\n",
              "      <td>0</td>\n",
              "      <td>0</td>\n",
              "      <td>0</td>\n",
              "      <td>0</td>\n",
              "      <td>0</td>\n",
              "      <td>0</td>\n",
              "      <td>0</td>\n",
              "      <td>0</td>\n",
              "      <td>0</td>\n",
              "      <td>0</td>\n",
              "      <td>0</td>\n",
              "      <td>0</td>\n",
              "      <td>0</td>\n",
              "      <td>0</td>\n",
              "      <td>1</td>\n",
              "    </tr>\n",
              "    <tr>\n",
              "      <th>1562978</th>\n",
              "      <td>http://www.usatoday.com/sports/preps/</td>\n",
              "      <td>0</td>\n",
              "      <td>0</td>\n",
              "      <td>0</td>\n",
              "      <td>0</td>\n",
              "      <td>0</td>\n",
              "      <td>0</td>\n",
              "      <td>0</td>\n",
              "      <td>0</td>\n",
              "      <td>0</td>\n",
              "      <td>0</td>\n",
              "      <td>0</td>\n",
              "      <td>0</td>\n",
              "      <td>0</td>\n",
              "      <td>0</td>\n",
              "      <td>1</td>\n",
              "    </tr>\n",
              "  </tbody>\n",
              "</table>\n",
              "</div>"
            ],
            "text/plain": [
              "                                                     URL  ...  Category_14\n",
              "1562974                         http://www.maxpreps.com/  ...            1\n",
              "1562975                          http://www.myscore.com/  ...            1\n",
              "1562976      http://sportsillustrated.cnn.com/highschool  ...            1\n",
              "1562977  http://rss.cnn.com/rss/si_highschool?format=xml  ...            1\n",
              "1562978            http://www.usatoday.com/sports/preps/  ...            1\n",
              "\n",
              "[5 rows x 16 columns]"
            ]
          },
          "metadata": {
            "tags": []
          },
          "execution_count": 6
        }
      ]
    },
    {
      "cell_type": "code",
      "metadata": {
        "id": "v4crOxJar9qN",
        "colab_type": "code",
        "outputId": "b37a1888-c051-400c-f0be-082f95f60851",
        "colab": {
          "base_uri": "https://localhost:8080/",
          "height": 153
        }
      },
      "source": [
        "X_train=df['URL']\n",
        "y_train=df.iloc[: , 1:16].values\n",
        "print(y_train)\n",
        "y_train.shape"
      ],
      "execution_count": 0,
      "outputs": [
        {
          "output_type": "stream",
          "text": [
            "[[1 0 0 ... 0 0 0]\n",
            " [1 0 0 ... 0 0 0]\n",
            " [1 0 0 ... 0 0 0]\n",
            " ...\n",
            " [0 0 0 ... 0 0 1]\n",
            " [0 0 0 ... 0 0 1]\n",
            " [0 0 0 ... 0 0 1]]\n"
          ],
          "name": "stdout"
        },
        {
          "output_type": "execute_result",
          "data": {
            "text/plain": [
              "(1502979, 15)"
            ]
          },
          "metadata": {
            "tags": []
          },
          "execution_count": 7
        }
      ]
    },
    {
      "cell_type": "code",
      "metadata": {
        "id": "1jOKk4wir9iT",
        "colab_type": "code",
        "outputId": "1cbab285-f368-42c2-ed6a-d27d3a3782dc",
        "colab": {
          "base_uri": "https://localhost:8080/",
          "height": 153
        }
      },
      "source": [
        "X_test=dt['URL']\n",
        "y_test=dt.iloc[: , 1:16].values\n",
        "print(y_test)\n",
        "y_test.shape"
      ],
      "execution_count": 0,
      "outputs": [
        {
          "output_type": "stream",
          "text": [
            "[[1 0 0 ... 0 0 0]\n",
            " [1 0 0 ... 0 0 0]\n",
            " [1 0 0 ... 0 0 0]\n",
            " ...\n",
            " [0 0 0 ... 0 0 1]\n",
            " [0 0 0 ... 0 0 1]\n",
            " [0 0 0 ... 0 0 1]]\n"
          ],
          "name": "stdout"
        },
        {
          "output_type": "execute_result",
          "data": {
            "text/plain": [
              "(59999, 15)"
            ]
          },
          "metadata": {
            "tags": []
          },
          "execution_count": 8
        }
      ]
    },
    {
      "cell_type": "code",
      "metadata": {
        "id": "GgJv8XXzr9e6",
        "colab_type": "code",
        "outputId": "2b806fd1-4638-42da-c2bd-009d79b19c22",
        "colab": {
          "base_uri": "https://localhost:8080/",
          "height": 51
        }
      },
      "source": [
        "from keras.preprocessing.text import Tokenizer\n",
        "def create_and_train_tokenizer(texts):\n",
        "    tokenizer=Tokenizer()\n",
        "    tokenizer.fit_on_texts(texts)\n",
        "    return tokenizer\n",
        "\n",
        "from keras.preprocessing.sequence import pad_sequences\n",
        "def encode_reviews(tokenizer, max_length, docs):\n",
        "    encoded=tokenizer.texts_to_sequences(docs) \n",
        "    padded=pad_sequences(encoded, maxlen=max_length, padding=\"post\")\n",
        "    return padded\n",
        "\n",
        "tokenizer=create_and_train_tokenizer(texts = X_train)\n",
        "vocab_size=len(tokenizer.word_index) + 1\n",
        "print(\"Vocabulary size:\", vocab_size)\n",
        "\n",
        "max_length=max([len(row.split()) for row in X_train])\n",
        "print(\"Maximum length:\",max_length)\n",
        "\n",
        "X_train_encoded = encode_reviews(tokenizer, max_length, X_train)\n",
        "X_test_encoded = encode_reviews(tokenizer, max_length, X_test)\n",
        "print('x_train shape:', X_train_encoded.shape)\n",
        "print('x_test shape:', X_test_encoded.shape)"
      ],
      "execution_count": 0,
      "outputs": [
        {
          "output_type": "stream",
          "text": [
            "Vocabulary size: 1182241\n",
            "Maximum length: 16\n"
          ],
          "name": "stdout"
        }
      ]
    },
    {
      "cell_type": "code",
      "metadata": {
        "id": "gFJ-XIF-r9Yl",
        "colab_type": "code",
        "colab": {}
      },
      "source": [
        "from keras.preprocessing import sequence\n",
        "from keras.models import Sequential\n",
        "from keras.layers import Dense, Dropout, Activation\n",
        "from keras.layers import Embedding\n",
        "from keras.layers import Conv1D, GlobalMaxPooling1D\n",
        "from keras.datasets import imdb\n",
        "from keras import layers, models\n",
        "from keras.callbacks import EarlyStopping"
      ],
      "execution_count": 0,
      "outputs": []
    },
    {
      "cell_type": "code",
      "metadata": {
        "id": "wJKm4TVfr9Us",
        "colab_type": "code",
        "colab": {}
      },
      "source": [
        "from keras import layers, models\n",
        "\n",
        "def create_embedding_model(vocab_size, max_length):\n",
        "    model=models.Sequential()\n",
        "    model.add(layers.Embedding(vocab_size, 100, input_length=max_length))\n",
        "\n",
        "    model.add(layers.Conv1D(128, 5, activation=\"relu\"))\n",
        "    #model.add(layers.BatchNormalization())\n",
        "    model.add(layers.MaxPooling1D())\n",
        "\n",
        "    model.add(layers.Conv1D(128, 5, activation=\"relu\"))\n",
        "    #model.add(layers.BatchNormalization())\n",
        "    model.add(layers.MaxPooling1D())\n",
        "\n",
        "    model.add(layers.Flatten())\n",
        "    model.add(layers.Dense(128,  activation=\"relu\")) \n",
        "    dropout = Dropout(0.5)\n",
        "    model.add(layers.Dense(15,  activation=\"softmax\"))   \n",
        "    return model\n",
        "\n",
        "embedding_model = create_embedding_model(vocab_size=vocab_size, max_length=max_length)\n",
        "embedding_model.summary()\n",
        "\n",
        "from keras.optimizers import SGD\n",
        "opt = SGD(lr=0.01, momentum=0.9)\n",
        "embedding_model.compile(loss='categorical_crossentropy',\n",
        "              optimizer= opt,\n",
        "              metrics=['accuracy'])"
      ],
      "execution_count": 0,
      "outputs": []
    },
    {
      "cell_type": "code",
      "metadata": {
        "id": "xrzdnKUWsPXZ",
        "colab_type": "code",
        "colab": {}
      },
      "source": [
        "print(len(y_train) + len(y_test))\n",
        "print(len(X_train_encoded))"
      ],
      "execution_count": 0,
      "outputs": []
    },
    {
      "cell_type": "code",
      "metadata": {
        "id": "cfWxLaOCsPUG",
        "colab_type": "code",
        "colab": {
          "base_uri": "https://localhost:8080/",
          "height": 547
        },
        "outputId": "f000ab45-b110-47d6-d0a4-da20d7ece459"
      },
      "source": [
        "#earlyStopping = EarlyStopping(monitor=\"val_accuracy\", patience=1)\n",
        "modelHistory = embedding_model.fit(X_train_encoded, \n",
        "                                   y_train, \n",
        "                                   validation_data=(X_test_encoded, y_test),\n",
        "                                   epochs= 40\n",
        "                                   )"
      ],
      "execution_count": 13,
      "outputs": [
        {
          "output_type": "stream",
          "text": [
            "WARNING:tensorflow:From /usr/local/lib/python3.6/dist-packages/tensorflow_core/python/ops/math_grad.py:1424: where (from tensorflow.python.ops.array_ops) is deprecated and will be removed in a future version.\n",
            "Instructions for updating:\n",
            "Use tf.where in 2.0, which has the same broadcast rule as np.where\n",
            "WARNING:tensorflow:From /usr/local/lib/python3.6/dist-packages/keras/backend/tensorflow_backend.py:1033: The name tf.assign_add is deprecated. Please use tf.compat.v1.assign_add instead.\n",
            "\n",
            "WARNING:tensorflow:From /usr/local/lib/python3.6/dist-packages/keras/backend/tensorflow_backend.py:1020: The name tf.assign is deprecated. Please use tf.compat.v1.assign instead.\n",
            "\n",
            "WARNING:tensorflow:From /usr/local/lib/python3.6/dist-packages/keras/backend/tensorflow_backend.py:3005: The name tf.Session is deprecated. Please use tf.compat.v1.Session instead.\n",
            "\n",
            "Train on 1502979 samples, validate on 59999 samples\n",
            "Epoch 1/40\n",
            "WARNING:tensorflow:From /usr/local/lib/python3.6/dist-packages/keras/backend/tensorflow_backend.py:190: The name tf.get_default_session is deprecated. Please use tf.compat.v1.get_default_session instead.\n",
            "\n",
            "WARNING:tensorflow:From /usr/local/lib/python3.6/dist-packages/keras/backend/tensorflow_backend.py:197: The name tf.ConfigProto is deprecated. Please use tf.compat.v1.ConfigProto instead.\n",
            "\n"
          ],
          "name": "stdout"
        },
        {
          "output_type": "stream",
          "text": [
            "/usr/local/lib/python3.6/dist-packages/tensorflow_core/python/framework/indexed_slices.py:421: UserWarning: Converting sparse IndexedSlices to a dense Tensor with 118224100 elements. This may consume a large amount of memory.\n",
            "  num_elements)\n"
          ],
          "name": "stderr"
        },
        {
          "output_type": "stream",
          "text": [
            "WARNING:tensorflow:From /usr/local/lib/python3.6/dist-packages/keras/backend/tensorflow_backend.py:207: The name tf.global_variables is deprecated. Please use tf.compat.v1.global_variables instead.\n",
            "\n",
            "WARNING:tensorflow:From /usr/local/lib/python3.6/dist-packages/keras/backend/tensorflow_backend.py:216: The name tf.is_variable_initialized is deprecated. Please use tf.compat.v1.is_variable_initialized instead.\n",
            "\n",
            "WARNING:tensorflow:From /usr/local/lib/python3.6/dist-packages/keras/backend/tensorflow_backend.py:223: The name tf.variables_initializer is deprecated. Please use tf.compat.v1.variables_initializer instead.\n",
            "\n",
            "1502979/1502979 [==============================] - 830s 552us/step - loss: 1.8204 - acc: 0.4291 - val_loss: 2.4603 - val_acc: 0.2833\n",
            "Epoch 2/40\n",
            "1502979/1502979 [==============================] - 807s 537us/step - loss: 1.5931 - acc: 0.5009 - val_loss: 2.1654 - val_acc: 0.3677\n",
            "Epoch 3/40\n",
            "1502979/1502979 [==============================] - 809s 538us/step - loss: 1.3481 - acc: 0.5783 - val_loss: 1.6817 - val_acc: 0.5026\n",
            "Epoch 4/40\n",
            "1047776/1502979 [===================>..........] - ETA: 4:04 - loss: 0.8733 - acc: 0.7278Buffered data was truncated after reaching the output size limit."
          ],
          "name": "stdout"
        }
      ]
    },
    {
      "cell_type": "code",
      "metadata": {
        "id": "jX7RMD6GsYA1",
        "colab_type": "code",
        "colab": {
          "base_uri": "https://localhost:8080/",
          "height": 51
        },
        "outputId": "63fe4fc9-4cf0-4c8a-f7dc-5f342acfd36c"
      },
      "source": [
        "_, acc = embedding_model.evaluate(X_train_encoded, y_train, verbose=0)\n",
        "print(\"Train accuracy:{:.2f}\".format(acc*100))\n",
        "_,acc= embedding_model.evaluate(X_test_encoded, y_test, verbose=0)\n",
        "print(\"Test accuracy:{:.2f}\".format(acc*100))"
      ],
      "execution_count": 14,
      "outputs": [
        {
          "output_type": "stream",
          "text": [
            "Train accuracy:97.54\n",
            "Test accuracy:88.89\n"
          ],
          "name": "stdout"
        }
      ]
    }
  ]
}